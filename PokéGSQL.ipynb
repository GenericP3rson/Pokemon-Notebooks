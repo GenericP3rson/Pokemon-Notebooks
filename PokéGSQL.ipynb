{
  "nbformat": 4,
  "nbformat_minor": 0,
  "metadata": {
    "colab": {
      "name": "PokéGSQL.ipynb",
      "provenance": [],
      "collapsed_sections": [],
      "authorship_tag": "ABX9TyMSUHQpop0g+0cFg9uTKdf3",
      "include_colab_link": true
    },
    "kernelspec": {
      "name": "python3",
      "display_name": "Python 3"
    }
  },
  "cells": [
    {
      "cell_type": "markdown",
      "metadata": {
        "id": "view-in-github",
        "colab_type": "text"
      },
      "source": [
        "<a href=\"https://colab.research.google.com/github/GenericP3rson/Pokemon-Notebooks/blob/main/Pok%C3%A9GSQL.ipynb\" target=\"_parent\"><img src=\"https://colab.research.google.com/assets/colab-badge.svg\" alt=\"Open In Colab\"/></a>"
      ]
    },
    {
      "cell_type": "markdown",
      "metadata": {
        "id": "i8yzb67jAqf4"
      },
      "source": [
        "# SELECT Statement With Pokémon\n",
        "Gotta Catch 'Em All!\n",
        "\n",
        "Now that you have your data loaded, the next big step will be catching them all and extracting relevant information from your graph using queries.\n",
        "\n",
        "This lesson will walk you through the basics of the SELECT statement with the Pokémon data.\n",
        "\n",
        "Phrases:\n",
        "- [ ] SELECT\n",
        "- [ ] WHERE\n",
        "- [ ] ACCUM\n",
        "- [ ] POST-ACCUM\n",
        "- [ ] HAVING\n",
        "- [ ] ORDER BY\n",
        "- [ ] LIMIT\n",
        "\n",
        "Reference: https://docs.tigergraph.com/dev/gsql-ref/querying/select-statement"
      ]
    },
    {
      "cell_type": "markdown",
      "metadata": {
        "id": "fv9IivEUBhCY"
      },
      "source": [
        "# Part I: Connect with the Graph\n",
        "Here, install pyTigerGraph and connect to your graph. If you are running into problems, be sure that your solution is running!"
      ]
    },
    {
      "cell_type": "code",
      "metadata": {
        "id": "5D_7kU5OAnau",
        "colab": {
          "base_uri": "https://localhost:8080/"
        },
        "outputId": "970ccbf7-f702-48cd-fd23-63119c9493b4"
      },
      "source": [
        "!pip install pyTigerGraph\n",
        "\n",
        "import pyTigerGraph as tg\n",
        "import json # To print data out nicely"
      ],
      "execution_count": null,
      "outputs": [
        {
          "output_type": "stream",
          "text": [
            "Collecting pyTigerGraph\n",
            "  Downloading https://files.pythonhosted.org/packages/f5/ba/0bfecbc488e59485b34f4f7da962e3fc89598b8e84c99a6c07e115843141/pyTigerGraph-0.0.9.6.2-py3-none-any.whl\n",
            "Collecting validators\n",
            "  Downloading https://files.pythonhosted.org/packages/41/4a/3360ff3cf2b4a1b9721ac1fbff5f84663f41047d9874b3aa1ac82e862c44/validators-0.18.1-py3-none-any.whl\n",
            "Requirement already satisfied: pandas in /usr/local/lib/python3.6/dist-packages (from pyTigerGraph) (1.1.4)\n",
            "Requirement already satisfied: requests in /usr/local/lib/python3.6/dist-packages (from pyTigerGraph) (2.23.0)\n",
            "Requirement already satisfied: six>=1.4.0 in /usr/local/lib/python3.6/dist-packages (from validators->pyTigerGraph) (1.15.0)\n",
            "Requirement already satisfied: decorator>=3.4.0 in /usr/local/lib/python3.6/dist-packages (from validators->pyTigerGraph) (4.4.2)\n",
            "Requirement already satisfied: pytz>=2017.2 in /usr/local/lib/python3.6/dist-packages (from pandas->pyTigerGraph) (2018.9)\n",
            "Requirement already satisfied: python-dateutil>=2.7.3 in /usr/local/lib/python3.6/dist-packages (from pandas->pyTigerGraph) (2.8.1)\n",
            "Requirement already satisfied: numpy>=1.15.4 in /usr/local/lib/python3.6/dist-packages (from pandas->pyTigerGraph) (1.18.5)\n",
            "Requirement already satisfied: urllib3!=1.25.0,!=1.25.1,<1.26,>=1.21.1 in /usr/local/lib/python3.6/dist-packages (from requests->pyTigerGraph) (1.24.3)\n",
            "Requirement already satisfied: idna<3,>=2.5 in /usr/local/lib/python3.6/dist-packages (from requests->pyTigerGraph) (2.10)\n",
            "Requirement already satisfied: certifi>=2017.4.17 in /usr/local/lib/python3.6/dist-packages (from requests->pyTigerGraph) (2020.6.20)\n",
            "Requirement already satisfied: chardet<4,>=3.0.2 in /usr/local/lib/python3.6/dist-packages (from requests->pyTigerGraph) (3.0.4)\n",
            "Installing collected packages: validators, pyTigerGraph\n",
            "Successfully installed pyTigerGraph-0.0.9.6.2 validators-0.18.1\n"
          ],
          "name": "stdout"
        }
      ]
    },
    {
      "cell_type": "code",
      "metadata": {
        "id": "636RXROwB6PW"
      },
      "source": [
        "conn = tg.TigerGraphConnection(host=\"https://shreya.i.tgcloud.io\", password=\"tigergraph\", gsqlVersion=\"3.0.5\", useCert=True) # Here, change the subdomain to your subdomain!\n",
        "\n",
        "conn.graphname = \"PokemonGraph\"\n",
        "conn.apiToken = conn.getToken(conn.createSecret())"
      ],
      "execution_count": null,
      "outputs": []
    },
    {
      "cell_type": "markdown",
      "metadata": {
        "id": "RV71gNWjCS6I"
      },
      "source": [
        "# Step II: Write Your First Query!\n",
        "Faithful to our sport, let's catch 'em all! To start, let's create a seed. "
      ]
    },
    {
      "cell_type": "code",
      "metadata": {
        "id": "95bG7MMJCDE4"
      },
      "source": [
        "allPokemon = conn.runInterpretedQuery('''\n",
        "INTERPRET QUERY () FOR GRAPH PokemonGraph { \n",
        "  catchThemAll = {Pokemon.*}; # Pokemon.* means that it'll grab all the Pokemon\n",
        "  PRINT catchThemAll; # print displays the results\n",
        "}\n",
        "''') # Here, we're interpreting a query. \n",
        "# catchThemAll is our Seed, or similar to a starting point. \n",
        "# Pokemon.* means that we're collecting all vertices of type Pokemon\n",
        "# PRINT catchThemAll; will print out the results (all Pokemon)\n",
        "\n",
        "print(json.dumps(allPokemon, indent=2))"
      ],
      "execution_count": null,
      "outputs": []
    },
    {
      "cell_type": "markdown",
      "metadata": {
        "id": "b255atjYEav-"
      },
      "source": [
        "# SELECT\n",
        "Nice! Next, we're going to add a SELECT statement."
      ]
    },
    {
      "cell_type": "code",
      "metadata": {
        "id": "VoR_CdImE2th",
        "colab": {
          "base_uri": "https://localhost:8080/"
        },
        "outputId": "c18de37c-2ffd-4f6d-b45a-d856105f3261"
      },
      "source": [
        "allPokemon = conn.runInterpretedQuery('''\n",
        "INTERPRET QUERY () FOR GRAPH PokemonGraph { \n",
        "  catchThemAll = {Pokemon.*};\n",
        "  Types = SELECT t \n",
        "          FROM catchThemAll:s- (POKEMON_TYPE:e)-Type:t; # Selects all the Types\n",
        "  PRINT Types;\n",
        "}\n",
        "''') # One-hop query\n",
        "# catchThemAll has all Pokémon\n",
        "# Types selects all nodes (SELECT t) which shares an undirected edge from any Pokémon (FROM catchThemAll:s-). \n",
        "# The undirected edge must be POKEMON_TYPE and it will return a Type vertex ((POKEMON_TYPE:e)-Type:t;)\n",
        "\n",
        "# Let's break it up again. For Types, at the end, we define the Type is t (Type:t). \n",
        "# So, at the start of our function, we tell it to SELECT t\n",
        "# Next, how will we get to Type t? Well, we'll use our values from catchThemAll, which we defined as s (catchThemAll:s), \n",
        "# then crawl across the POKEMON_TYPE edge, which we defined as e (POKEMON_TYPE:e). \n",
        "# The - means undirected. If we have a directed edge, it'd be ->\n",
        "\n",
        "# Utlimately, this is just a fancy way to print out all the Type vertices (provides every type is connected to a Pokémon)\n",
        "print(json.dumps(allPokemon, indent=2))\n"
      ],
      "execution_count": null,
      "outputs": [
        {
          "output_type": "stream",
          "text": [
            "[\n",
            "  {\n",
            "    \"Types\": [\n",
            "      {\n",
            "        \"v_id\": \"bug\",\n",
            "        \"v_type\": \"Type\",\n",
            "        \"attributes\": {\n",
            "          \"type_id\": \"bug\"\n",
            "        }\n",
            "      },\n",
            "      {\n",
            "        \"v_id\": \"grass\",\n",
            "        \"v_type\": \"Type\",\n",
            "        \"attributes\": {\n",
            "          \"type_id\": \"grass\"\n",
            "        }\n",
            "      },\n",
            "      {\n",
            "        \"v_id\": \"fire\",\n",
            "        \"v_type\": \"Type\",\n",
            "        \"attributes\": {\n",
            "          \"type_id\": \"fire\"\n",
            "        }\n",
            "      },\n",
            "      {\n",
            "        \"v_id\": \"flying\",\n",
            "        \"v_type\": \"Type\",\n",
            "        \"attributes\": {\n",
            "          \"type_id\": \"flying\"\n",
            "        }\n",
            "      },\n",
            "      {\n",
            "        \"v_id\": \"water\",\n",
            "        \"v_type\": \"Type\",\n",
            "        \"attributes\": {\n",
            "          \"type_id\": \"water\"\n",
            "        }\n",
            "      },\n",
            "      {\n",
            "        \"v_id\": \"poison\",\n",
            "        \"v_type\": \"Type\",\n",
            "        \"attributes\": {\n",
            "          \"type_id\": \"poison\"\n",
            "        }\n",
            "      }\n",
            "    ]\n",
            "  }\n",
            "]\n"
          ],
          "name": "stdout"
        }
      ]
    },
    {
      "cell_type": "markdown",
      "metadata": {
        "id": "nHWZ6g4NqSe-"
      },
      "source": [
        "# WHERE\n",
        "\n",
        "Now, let's make it a bit more specific. Let's filter all the types to just be the types of one Pokémon. We'll filter using the WHERE clause."
      ]
    },
    {
      "cell_type": "code",
      "metadata": {
        "id": "WIuK5Qccqd_I",
        "colab": {
          "base_uri": "https://localhost:8080/"
        },
        "outputId": "a631aa9d-85df-4a7c-9a21-1344f439fd31"
      },
      "source": [
        "allPokemon = conn.runInterpretedQuery('''\n",
        "INTERPRET QUERY () FOR GRAPH PokemonGraph { \n",
        "  catchThemAll = {Pokemon.*};\n",
        "  Types = SELECT t FROM catchThemAll:s- (POKEMON_TYPE:e)-Type:t # Selects all the types\n",
        "          WHERE s.weight > 100; # Filters to just be the ones connected the pikachu\n",
        "  PRINT Types;\n",
        "}\n",
        "''') # One-hop query\n",
        "# catchThemAll has all Pokémon\n",
        "# Types selects all nodes (SELECT t) which shares an undirected edge from any Pokémon (FROM catchThemAll:s-). \n",
        "# The undirected edge must be POKEMON_TYPE and it will return a Type vertex ((POKEMON_TYPE:e)-Type:t;)\n",
        "# But we're filtering it: only the Pokemon (s) who have an attribute \"name\" of pikachu will be returned.\n",
        "\n",
        "# Utlimately, this is prints out all the Type vertices connected to pikachu\n",
        "print(json.dumps(allPokemon, indent=2))\n"
      ],
      "execution_count": null,
      "outputs": [
        {
          "output_type": "stream",
          "text": [
            "[\n",
            "  {\n",
            "    \"Types\": [\n",
            "      {\n",
            "        \"v_id\": \"flying\",\n",
            "        \"v_type\": \"Type\",\n",
            "        \"attributes\": {\n",
            "          \"type_id\": \"flying\"\n",
            "        }\n",
            "      },\n",
            "      {\n",
            "        \"v_id\": \"grass\",\n",
            "        \"v_type\": \"Type\",\n",
            "        \"attributes\": {\n",
            "          \"type_id\": \"grass\"\n",
            "        }\n",
            "      },\n",
            "      {\n",
            "        \"v_id\": \"fire\",\n",
            "        \"v_type\": \"Type\",\n",
            "        \"attributes\": {\n",
            "          \"type_id\": \"fire\"\n",
            "        }\n",
            "      },\n",
            "      {\n",
            "        \"v_id\": \"water\",\n",
            "        \"v_type\": \"Type\",\n",
            "        \"attributes\": {\n",
            "          \"type_id\": \"water\"\n",
            "        }\n",
            "      },\n",
            "      {\n",
            "        \"v_id\": \"poison\",\n",
            "        \"v_type\": \"Type\",\n",
            "        \"attributes\": {\n",
            "          \"type_id\": \"poison\"\n",
            "        }\n",
            "      }\n",
            "    ]\n",
            "  }\n",
            "]\n"
          ],
          "name": "stdout"
        }
      ]
    },
    {
      "cell_type": "markdown",
      "metadata": {
        "id": "_xC10ca9rFYK"
      },
      "source": [
        "Instead of directly entering the Pokémon, let's next instead pass it as a parameter."
      ]
    },
    {
      "cell_type": "code",
      "metadata": {
        "id": "owX5pWnIrfFv",
        "colab": {
          "base_uri": "https://localhost:8080/"
        },
        "outputId": "f19a5d00-a352-46c4-e25a-e74105fe2346"
      },
      "source": [
        "allPokemon = conn.runInterpretedQuery('''\n",
        "INTERPRET QUERY (STRING name) FOR GRAPH PokemonGraph { \n",
        "  catchThemAll = {Pokemon.*};\n",
        "  Types = SELECT t FROM catchThemAll:s- (POKEMON_TYPE:e)-Type:t # Select all connected types\n",
        "          WHERE s.name == name; # Where the name of the pokemon is the inputted name\n",
        "  PRINT Types;\n",
        "}\n",
        "''', {\"name\": \"bulbasaur\"}) # One-hop query\n",
        "# At the top, we input a STRING called name\n",
        "# catchThemAll has all Pokémon\n",
        "# Types selects all nodes (SELECT t) which shares an undirected edge from any Pokémon (FROM catchThemAll:s-). \n",
        "# But we're filtering it: only the Pokemon (s) who have an attribute \"name\" of the input will be returned.\n",
        "\n",
        "# Utlimately, this is prints out all the Type vertices connected to the inputted Pokémon\n",
        "print(json.dumps(allPokemon, indent=2))\n"
      ],
      "execution_count": null,
      "outputs": [
        {
          "output_type": "stream",
          "text": [
            "[\n",
            "  {\n",
            "    \"Types\": [\n",
            "      {\n",
            "        \"v_id\": \"grass\",\n",
            "        \"v_type\": \"Type\",\n",
            "        \"attributes\": {\n",
            "          \"type_id\": \"grass\"\n",
            "        }\n",
            "      },\n",
            "      {\n",
            "        \"v_id\": \"poison\",\n",
            "        \"v_type\": \"Type\",\n",
            "        \"attributes\": {\n",
            "          \"type_id\": \"poison\"\n",
            "        }\n",
            "      }\n",
            "    ]\n",
            "  }\n",
            "]\n"
          ],
          "name": "stdout"
        }
      ]
    },
    {
      "cell_type": "markdown",
      "metadata": {
        "id": "7gOaTzyArpIO"
      },
      "source": [
        "# ACCUM \n",
        "\n",
        "Awesome! Next, let's find the average weight of the Pokémon by type. We'll use an Accumulator for this.\n",
        "\n",
        "There are a bunch of Accumulators you can use! For ours, we'll use an AvgAccum (average), but here are possible options:\n",
        "1. **SumAccum\\<int>** stores the running total of all numbers passed.\n",
        "2. **MaxAccum\\<int>** stores the maximum number passed.\n",
        "3. **MinAccum\\<int>** stores the minimum number passed.\n",
        "4. **AvgAccum** stores the running average of all numbers passed.\n",
        "5. **SetAccum\\<int>** requires that all elements are unique.\n",
        "6. **ListAccum\\<int>** has a list of the elements in the order it was passed in.\n",
        "7. **MapAccum<int, SumAccum\\<int>>** use key-value pairs to store data like a map.\n",
        "8. **HeapAccum\\<Tuple>** stores the data in tuples in ascending or descending order. One can also set a capacity limit; when the limit is reached, it will either remove the highest or lowest value."
      ]
    },
    {
      "cell_type": "code",
      "metadata": {
        "id": "Yhg_RexqrmsC",
        "colab": {
          "base_uri": "https://localhost:8080/"
        },
        "outputId": "00b994d3-c1d5-4c0a-8dac-617dacc59a71"
      },
      "source": [
        "allPokemon = conn.runInterpretedQuery('''\n",
        "INTERPRET QUERY ( ) FOR GRAPH PokemonGraph { \n",
        "  AvgAccum @weights; \n",
        "  catchThemAll = {Pokemon.*}; # All Pokemon vertices\n",
        "  Types = SELECT t FROM catchThemAll:s- (POKEMON_TYPE:e)-Type:t # Grab all the Type vertices\n",
        "          ACCUM t.@weights += s.weight; # Find the Average Weight for each type (this will be printed as an attribute of type)\n",
        "  PRINT Types;\n",
        "}\n",
        "''', {}) # One-hop query\n",
        "# catchThemAll has all Pokémon\n",
        "# Types selects all nodes (SELECT t) which shares an undirected edge from any Pokémon (FROM catchThemAll:s-). \n",
        "# Next, it attaches the weights accumulator to the type (with the t.@weights). It will find the average weight for all the Pokémon connected to each Type.\n",
        "# When it prints Type, notice that @weights is an attribute!\n",
        "# Also, for the prefix, @ means local and @@ means global.\n",
        "\n",
        "# Utlimately, this is just a fancy way to print out all the Type vertices (provides every type is connected to a Pokémon)\n",
        "print(json.dumps(allPokemon, indent=2))\n"
      ],
      "execution_count": null,
      "outputs": [
        {
          "output_type": "stream",
          "text": [
            "[\n",
            "  {\n",
            "    \"Types\": [\n",
            "      {\n",
            "        \"v_id\": \"flying\",\n",
            "        \"v_type\": \"Type\",\n",
            "        \"attributes\": {\n",
            "          \"type_id\": \"flying\",\n",
            "          \"@weights\": 414.33333\n",
            "        }\n",
            "      },\n",
            "      {\n",
            "        \"v_id\": \"water\",\n",
            "        \"v_type\": \"Type\",\n",
            "        \"attributes\": {\n",
            "          \"type_id\": \"water\",\n",
            "          \"@weights\": 390\n",
            "        }\n",
            "      },\n",
            "      {\n",
            "        \"v_id\": \"grass\",\n",
            "        \"v_type\": \"Type\",\n",
            "        \"attributes\": {\n",
            "          \"type_id\": \"grass\",\n",
            "          \"@weights\": 399.66667\n",
            "        }\n",
            "      },\n",
            "      {\n",
            "        \"v_id\": \"poison\",\n",
            "        \"v_type\": \"Type\",\n",
            "        \"attributes\": {\n",
            "          \"type_id\": \"poison\",\n",
            "          \"@weights\": 271\n",
            "        }\n",
            "      },\n",
            "      {\n",
            "        \"v_id\": \"bug\",\n",
            "        \"v_type\": \"Type\",\n",
            "        \"attributes\": {\n",
            "          \"type_id\": \"bug\",\n",
            "          \"@weights\": 145.83333\n",
            "        }\n",
            "      },\n",
            "      {\n",
            "        \"v_id\": \"fire\",\n",
            "        \"v_type\": \"Type\",\n",
            "        \"attributes\": {\n",
            "          \"type_id\": \"fire\",\n",
            "          \"@weights\": 393.33333\n",
            "        }\n",
            "      },\n",
            "      {\n",
            "        \"v_id\": \"normal\",\n",
            "        \"v_type\": \"Type\",\n",
            "        \"attributes\": {\n",
            "          \"type_id\": \"normal\",\n",
            "          \"@weights\": 18\n",
            "        }\n",
            "      }\n",
            "    ]\n",
            "  }\n",
            "]\n"
          ],
          "name": "stdout"
        }
      ]
    },
    {
      "cell_type": "code",
      "metadata": {
        "id": "lAMMIuvNRghW",
        "colab": {
          "base_uri": "https://localhost:8080/"
        },
        "outputId": "d9a75811-aed7-4430-9d3c-7b1d5b362222"
      },
      "source": [
        "# CHALLENGE: Try to modify the query but find the Pokémon who are tallest\n",
        "allPokemon = conn.runInterpretedQuery('''\n",
        "INTERPRET QUERY () FOR GRAPH PokemonGraph { \n",
        "  AvgAccum @heights; \n",
        "  catchThemAll = {Pokemon.*}; # All Pokemon vertices\n",
        "  Types = SELECT t FROM catchThemAll:s- (POKEMON_TYPE:e)-Type:t # Grab all the Type vertices\n",
        "          ACCUM t.@heights += s.height; # Find the Average Weight for each type (this will be printed as an attribute of type)\n",
        "  PRINT Types;\n",
        "}\n",
        "''', {}) \n",
        "\n",
        "print(json.dumps(allPokemon, indent=2))"
      ],
      "execution_count": null,
      "outputs": [
        {
          "output_type": "stream",
          "text": [
            "[\n",
            "  {\n",
            "    \"Types\": [\n",
            "      {\n",
            "        \"v_id\": \"flying\",\n",
            "        \"v_type\": \"Type\",\n",
            "        \"attributes\": {\n",
            "          \"type_id\": \"flying\",\n",
            "          \"@heights\": 11.4\n",
            "        }\n",
            "      },\n",
            "      {\n",
            "        \"v_id\": \"grass\",\n",
            "        \"v_type\": \"Type\",\n",
            "        \"attributes\": {\n",
            "          \"type_id\": \"grass\",\n",
            "          \"@heights\": 12.33333\n",
            "        }\n",
            "      },\n",
            "      {\n",
            "        \"v_id\": \"fire\",\n",
            "        \"v_type\": \"Type\",\n",
            "        \"attributes\": {\n",
            "          \"type_id\": \"fire\",\n",
            "          \"@heights\": 11.33333\n",
            "        }\n",
            "      },\n",
            "      {\n",
            "        \"v_id\": \"normal\",\n",
            "        \"v_type\": \"Type\",\n",
            "        \"attributes\": {\n",
            "          \"type_id\": \"normal\",\n",
            "          \"@heights\": 9.66667\n",
            "        }\n",
            "      },\n",
            "      {\n",
            "        \"v_id\": \"poison\",\n",
            "        \"v_type\": \"Type\",\n",
            "        \"attributes\": {\n",
            "          \"type_id\": \"poison\",\n",
            "          \"@heights\": 9.33333\n",
            "        }\n",
            "      },\n",
            "      {\n",
            "        \"v_id\": \"bug\",\n",
            "        \"v_type\": \"Type\",\n",
            "        \"attributes\": {\n",
            "          \"type_id\": \"bug\",\n",
            "          \"@heights\": 6.66667\n",
            "        }\n",
            "      },\n",
            "      {\n",
            "        \"v_id\": \"water\",\n",
            "        \"v_type\": \"Type\",\n",
            "        \"attributes\": {\n",
            "          \"type_id\": \"water\",\n",
            "          \"@heights\": 10.33333\n",
            "        }\n",
            "      }\n",
            "    ]\n",
            "  }\n",
            "]\n"
          ],
          "name": "stdout"
        }
      ]
    },
    {
      "cell_type": "markdown",
      "metadata": {
        "id": "0gnKxTE3rFWU"
      },
      "source": [
        "# POST-ACCUM\n",
        "The POST-ACCUM is nearly the same thing as the ACCUM clause, but it always follows the ACCUM clause and allows you to use variables from the ACCUM clause\n"
      ]
    },
    {
      "cell_type": "code",
      "metadata": {
        "id": "cqPkln5nrMdR",
        "colab": {
          "base_uri": "https://localhost:8080/"
        },
        "outputId": "2589100c-7aa2-43b9-d577-d76e8d4bcda6"
      },
      "source": [
        "# Let's try to find the biggest average weight.  \n",
        "allPokemon = conn.runInterpretedQuery('''\n",
        "INTERPRET QUERY (STRING name) FOR GRAPH PokemonGraph { \n",
        "  AvgAccum @weights; \n",
        "  MaxAccum<double> @@biggestAvgWeight; # MaxAccum\n",
        "  catchThemAll = {Pokemon.*}; # All Pokemon vertices\n",
        "  Types = SELECT t FROM catchThemAll:s- (POKEMON_TYPE:e)-Type:t # Grab all the Type vertices\n",
        "          ACCUM t.@weights += s.weight # Find the Average Weight for each type (this will be printed as an attribute of type)\n",
        "          POST-ACCUM @@biggestAvgWeight += t.@weights; # Finds the biggest average weight\n",
        "  PRINT Types;\n",
        "  PRINT @@biggestAvgWeight;\n",
        "}\n",
        "''', {\"name\": \"pikachu\"}) \n",
        "\n",
        "print(json.dumps(allPokemon, indent=2))"
      ],
      "execution_count": null,
      "outputs": [
        {
          "output_type": "stream",
          "text": [
            "[\n",
            "  {\n",
            "    \"Types\": [\n",
            "      {\n",
            "        \"v_id\": \"grass\",\n",
            "        \"v_type\": \"Type\",\n",
            "        \"attributes\": {\n",
            "          \"type_id\": \"grass\",\n",
            "          \"@weights\": 399.66667\n",
            "        }\n",
            "      },\n",
            "      {\n",
            "        \"v_id\": \"water\",\n",
            "        \"v_type\": \"Type\",\n",
            "        \"attributes\": {\n",
            "          \"type_id\": \"water\",\n",
            "          \"@weights\": 390\n",
            "        }\n",
            "      },\n",
            "      {\n",
            "        \"v_id\": \"bug\",\n",
            "        \"v_type\": \"Type\",\n",
            "        \"attributes\": {\n",
            "          \"type_id\": \"bug\",\n",
            "          \"@weights\": 145.83333\n",
            "        }\n",
            "      },\n",
            "      {\n",
            "        \"v_id\": \"flying\",\n",
            "        \"v_type\": \"Type\",\n",
            "        \"attributes\": {\n",
            "          \"type_id\": \"flying\",\n",
            "          \"@weights\": 387.6\n",
            "        }\n",
            "      },\n",
            "      {\n",
            "        \"v_id\": \"fire\",\n",
            "        \"v_type\": \"Type\",\n",
            "        \"attributes\": {\n",
            "          \"type_id\": \"fire\",\n",
            "          \"@weights\": 393.33333\n",
            "        }\n",
            "      },\n",
            "      {\n",
            "        \"v_id\": \"normal\",\n",
            "        \"v_type\": \"Type\",\n",
            "        \"attributes\": {\n",
            "          \"type_id\": \"normal\",\n",
            "          \"@weights\": 186.6\n",
            "        }\n",
            "      },\n",
            "      {\n",
            "        \"v_id\": \"poison\",\n",
            "        \"v_type\": \"Type\",\n",
            "        \"attributes\": {\n",
            "          \"type_id\": \"poison\",\n",
            "          \"@weights\": 271\n",
            "        }\n",
            "      }\n",
            "    ]\n",
            "  },\n",
            "  {\n",
            "    \"@@biggestAvgWeight\": 399.66667\n",
            "  }\n",
            "]\n"
          ],
          "name": "stdout"
        }
      ]
    },
    {
      "cell_type": "markdown",
      "metadata": {
        "id": "Y80HSBO1doBD"
      },
      "source": [
        "# HAVING\n",
        "\n",
        "HAVING is similar to the WHERE clause. The main difference is that it is applied after the ACCUM and POST-ACCUM clauses. This means that you can use the accumulator's variables in this clause.\n"
      ]
    },
    {
      "cell_type": "code",
      "metadata": {
        "id": "Uv_IHEx2eGKY"
      },
      "source": [
        "# Here, we'll find all the Pokémon Types with an average weight over 300.\n",
        "allPokemon = conn.runInterpretedQuery('''\n",
        "INTERPRET QUERY (STRING name) FOR GRAPH PokemonGraph { \n",
        "  AvgAccum @weights; \n",
        "  catchThemAll = {Pokemon.*}; # All Pokemon vertices\n",
        "  Types = SELECT t FROM catchThemAll:s- (POKEMON_TYPE:e)-Type:t # Grab all the Type vertices\n",
        "          ACCUM t.@weights += s.weight # Find the Average Weight for each type (this will be printed as an attribute of type)\n",
        "          HAVING t.@weights >= 300; # Further filters the types based on their weights; it must be greater than or equal to 300.\n",
        "  PRINT Types;\n",
        "}\n",
        "''', {\"name\": \"pikachu\"}) # One-hop query\n",
        "# catchThemAll has all Pokémon\n",
        "# Types selects all nodes (SELECT t) which shares an undirected edge from any Pokémon (FROM catchThemAll:s-). \n",
        "# Next, it attaches the weights accumulator to the type (with the t.@weights). It will find the average weight for all the Pokémon connected to each Type.\n",
        "# When it prints Type, notice that @weights is an attribute!\n",
        "# Also, for the prefix, @ means local and @@ means global.\n",
        "\n",
        "# Utlimately, this is just a fancy way to print out all the Type vertices (provides every type is connected to a Pokémon)\n",
        "print(json.dumps(allPokemon, indent=2))\n"
      ],
      "execution_count": null,
      "outputs": []
    },
    {
      "cell_type": "markdown",
      "metadata": {
        "id": "Q6m4Kxi-tL2X"
      },
      "source": [
        "# ORDER BY\n",
        "\n",
        "Next, what if we don't want to order the list we returned? We can do that using ORDER BY. \n",
        "\n",
        "This, however, is a special query because we can't interpret it: we need to install it into our graph. "
      ]
    },
    {
      "cell_type": "code",
      "metadata": {
        "id": "LWK8BVb7uYZa",
        "colab": {
          "base_uri": "https://localhost:8080/"
        },
        "outputId": "c5fc6e78-7a5a-405b-e073-6e6346f0c79b"
      },
      "source": [
        "# Let's order the Pokémon Types from highest to lowest weight\n",
        "\n",
        "allPokemon = conn.gsql('''\n",
        "DROP QUERY orderTypeByPokemonCount; # Removes the query if it already exists\n",
        "CREATE QUERY orderTypeByPokemonCount() FOR GRAPH PokemonGraph { \n",
        "  AvgAccum @weights; # Our AvgAccum\n",
        "  catchThemAll = {Pokemon.*}; # All the Pokémon\n",
        "  Types = SELECT t FROM catchThemAll:s- (POKEMON_TYPE:e)-Type:t # Type vertices connect to Pokemone with POKEMON_TYPE\n",
        "          ACCUM t.@weights += s.weight # Add to the AvgAccum\n",
        "          ORDER BY t.@weights DESC; # Order them descending\n",
        "  PRINT Types;\n",
        "}\n",
        "INSTALL QUERY orderTypeByPokemonCount;\n",
        "''') \n",
        "allPokemon = conn.runInstalledQuery(\"orderTypeByPokemonCount\") # Runs the query\n",
        "\n",
        "print(json.dumps(allPokemon, indent=2))\n"
      ],
      "execution_count": null,
      "outputs": [
        {
          "output_type": "stream",
          "text": [
            "[\n",
            "  {\n",
            "    \"Types\": [\n",
            "      {\n",
            "        \"v_id\": \"rock\",\n",
            "        \"v_type\": \"Type\",\n",
            "        \"attributes\": {\n",
            "          \"type\": \"rock\",\n",
            "          \"@weights\": 1587.5\n",
            "        }\n",
            "      },\n",
            "      {\n",
            "        \"v_id\": \"ice\",\n",
            "        \"v_type\": \"Type\",\n",
            "        \"attributes\": {\n",
            "          \"type\": \"ice\",\n",
            "          \"@weights\": 1262.5\n",
            "        }\n",
            "      },\n",
            "      {\n",
            "        \"v_id\": \"ground\",\n",
            "        \"v_type\": \"Type\",\n",
            "        \"attributes\": {\n",
            "          \"type\": \"ground\",\n",
            "          \"@weights\": 832.6\n",
            "        }\n",
            "      },\n",
            "      {\n",
            "        \"v_id\": \"fighting\",\n",
            "        \"v_type\": \"Type\",\n",
            "        \"attributes\": {\n",
            "          \"type\": \"fighting\",\n",
            "          \"@weights\": 556.66667\n",
            "        }\n",
            "      },\n",
            "      {\n",
            "        \"v_id\": \"water\",\n",
            "        \"v_type\": \"Type\",\n",
            "        \"attributes\": {\n",
            "          \"type\": \"water\",\n",
            "          \"@weights\": 515.33333\n",
            "        }\n",
            "      },\n",
            "      {\n",
            "        \"v_id\": \"fire\",\n",
            "        \"v_type\": \"Type\",\n",
            "        \"attributes\": {\n",
            "          \"type\": \"fire\",\n",
            "          \"@weights\": 496.44444\n",
            "        }\n",
            "      },\n",
            "      {\n",
            "        \"v_id\": \"psychic\",\n",
            "        \"v_type\": \"Type\",\n",
            "        \"attributes\": {\n",
            "          \"type\": \"psychic\",\n",
            "          \"@weights\": 495\n",
            "        }\n",
            "      },\n",
            "      {\n",
            "        \"v_id\": \"flying\",\n",
            "        \"v_type\": \"Type\",\n",
            "        \"attributes\": {\n",
            "          \"type\": \"flying\",\n",
            "          \"@weights\": 363.08333\n",
            "        }\n",
            "      },\n",
            "      {\n",
            "        \"v_id\": \"steel\",\n",
            "        \"v_type\": \"Type\",\n",
            "        \"attributes\": {\n",
            "          \"type\": \"steel\",\n",
            "          \"@weights\": 330\n",
            "        }\n",
            "      },\n",
            "      {\n",
            "        \"v_id\": \"electric\",\n",
            "        \"v_type\": \"Type\",\n",
            "        \"attributes\": {\n",
            "          \"type\": \"electric\",\n",
            "          \"@weights\": 255\n",
            "        }\n",
            "      },\n",
            "      {\n",
            "        \"v_id\": \"poison\",\n",
            "        \"v_type\": \"Type\",\n",
            "        \"attributes\": {\n",
            "          \"type\": \"poison\",\n",
            "          \"@weights\": 250.54839\n",
            "        }\n",
            "      },\n",
            "      {\n",
            "        \"v_id\": \"normal\",\n",
            "        \"v_type\": \"Type\",\n",
            "        \"attributes\": {\n",
            "          \"type\": \"normal\",\n",
            "          \"@weights\": 233.14286\n",
            "        }\n",
            "      },\n",
            "      {\n",
            "        \"v_id\": \"grass\",\n",
            "        \"v_type\": \"Type\",\n",
            "        \"attributes\": {\n",
            "          \"type\": \"grass\",\n",
            "          \"@weights\": 193.90909\n",
            "        }\n",
            "      },\n",
            "      {\n",
            "        \"v_id\": \"bug\",\n",
            "        \"v_type\": \"Type\",\n",
            "        \"attributes\": {\n",
            "          \"type\": \"bug\",\n",
            "          \"@weights\": 164.9\n",
            "        }\n",
            "      },\n",
            "      {\n",
            "        \"v_id\": \"fairy\",\n",
            "        \"v_type\": \"Type\",\n",
            "        \"attributes\": {\n",
            "          \"type\": \"fairy\",\n",
            "          \"@weights\": 162.5\n",
            "        }\n",
            "      },\n",
            "      {\n",
            "        \"v_id\": \"ghost\",\n",
            "        \"v_type\": \"Type\",\n",
            "        \"attributes\": {\n",
            "          \"type\": \"ghost\",\n",
            "          \"@weights\": 135.66667\n",
            "        }\n",
            "      }\n",
            "    ]\n",
            "  }\n",
            "]\n"
          ],
          "name": "stdout"
        }
      ]
    },
    {
      "cell_type": "markdown",
      "metadata": {
        "id": "DdR-l1Mtef4g"
      },
      "source": [
        "# LIMIT\n",
        "LIMIT simply restrains the number of resulting values."
      ]
    },
    {
      "cell_type": "code",
      "metadata": {
        "id": "qdOzQfOue9XD"
      },
      "source": [
        "# Let's grab the top five most heavy Pokémon\n",
        "\n",
        "allPokemon = conn.gsql('''\n",
        "DROP QUERY orderTypeByPokemonCount; # Removes the query if it already exists\n",
        "CREATE QUERY orderTypeByPokemonCount() FOR GRAPH PokemonGraph { \n",
        "  AvgAccum @weights; # Our AvgAccum\n",
        "  catchThemAll = {Pokemon.*}; # All the Pokémon\n",
        "  Types = SELECT t FROM catchThemAll:s- (POKEMON_TYPE:e)-Type:t # Type vertices connect to Pokemone with POKEMON_TYPE\n",
        "          ACCUM t.@weights += s.weight # Add to the AvgAccum\n",
        "          ORDER BY t.@weights DESC # Order them descending\n",
        "          LIMIT 5; # Limits the results to just the top five\n",
        "  PRINT Types;\n",
        "}\n",
        "INSTALL QUERY orderTypeByPokemonCount;\n",
        "''') \n",
        "allPokemon = conn.runInstalledQuery(\"orderTypeByPokemonCount\") # Runs the query\n",
        "\n",
        "print(json.dumps(allPokemon, indent=2))\n"
      ],
      "execution_count": null,
      "outputs": []
    },
    {
      "cell_type": "markdown",
      "metadata": {
        "id": "6bgsRSJ93F0I"
      },
      "source": [
        "# That's It!\n",
        "\n",
        "Great job! You've now learned the basics of GSQL! Now, go ahead and write your own queries. It's your turn to catch 'em all!"
      ]
    }
  ]
}