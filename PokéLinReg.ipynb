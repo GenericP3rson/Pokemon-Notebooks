{
  "nbformat": 4,
  "nbformat_minor": 0,
  "metadata": {
    "colab": {
      "name": "PokéLinReg.ipynb",
      "provenance": [],
      "collapsed_sections": [],
      "authorship_tag": "ABX9TyO/ec4pOGFaf+/dzFeAhFTg",
      "include_colab_link": true
    },
    "kernelspec": {
      "name": "python3",
      "display_name": "Python 3"
    }
  },
  "cells": [
    {
      "cell_type": "markdown",
      "metadata": {
        "id": "view-in-github",
        "colab_type": "text"
      },
      "source": [
        "<a href=\"https://colab.research.google.com/github/GenericP3rson/Pokemon-Notebooks/blob/main/Pok%C3%A9LinReg.ipynb\" target=\"_parent\"><img src=\"https://colab.research.google.com/assets/colab-badge.svg\" alt=\"Open In Colab\"/></a>"
      ]
    },
    {
      "cell_type": "code",
      "metadata": {
        "id": "NvBANEMUIVkw",
        "colab": {
          "base_uri": "https://localhost:8080/"
        },
        "outputId": "c6c9a166-2907-4a2d-c962-6c826cba54d3"
      },
      "source": [
        "!pip install pyTigerGraph\n",
        "import pyTigerGraph as tg\n",
        "\n",
        "conn = tg.TigerGraphConnection(host=\"https://shreya.i.tgcloud.io\", password=\"tigergraph\", gsqlVersion=\"3.0.5\", useCert=True)\n",
        "\n",
        "conn.graphname = \"PokemonGraph\"\n",
        "conn.apiToken = conn.getToken(conn.createSecret())"
      ],
      "execution_count": null,
      "outputs": [
        {
          "output_type": "stream",
          "text": [
            "Collecting pyTigerGraph\n",
            "  Downloading https://files.pythonhosted.org/packages/f5/ba/0bfecbc488e59485b34f4f7da962e3fc89598b8e84c99a6c07e115843141/pyTigerGraph-0.0.9.6.2-py3-none-any.whl\n",
            "Requirement already satisfied: pandas in /usr/local/lib/python3.6/dist-packages (from pyTigerGraph) (1.1.4)\n",
            "Collecting validators\n",
            "  Downloading https://files.pythonhosted.org/packages/41/4a/3360ff3cf2b4a1b9721ac1fbff5f84663f41047d9874b3aa1ac82e862c44/validators-0.18.1-py3-none-any.whl\n",
            "Requirement already satisfied: requests in /usr/local/lib/python3.6/dist-packages (from pyTigerGraph) (2.23.0)\n",
            "Requirement already satisfied: numpy>=1.15.4 in /usr/local/lib/python3.6/dist-packages (from pandas->pyTigerGraph) (1.18.5)\n",
            "Requirement already satisfied: python-dateutil>=2.7.3 in /usr/local/lib/python3.6/dist-packages (from pandas->pyTigerGraph) (2.8.1)\n",
            "Requirement already satisfied: pytz>=2017.2 in /usr/local/lib/python3.6/dist-packages (from pandas->pyTigerGraph) (2018.9)\n",
            "Requirement already satisfied: decorator>=3.4.0 in /usr/local/lib/python3.6/dist-packages (from validators->pyTigerGraph) (4.4.2)\n",
            "Requirement already satisfied: six>=1.4.0 in /usr/local/lib/python3.6/dist-packages (from validators->pyTigerGraph) (1.15.0)\n",
            "Requirement already satisfied: chardet<4,>=3.0.2 in /usr/local/lib/python3.6/dist-packages (from requests->pyTigerGraph) (3.0.4)\n",
            "Requirement already satisfied: certifi>=2017.4.17 in /usr/local/lib/python3.6/dist-packages (from requests->pyTigerGraph) (2020.11.8)\n",
            "Requirement already satisfied: idna<3,>=2.5 in /usr/local/lib/python3.6/dist-packages (from requests->pyTigerGraph) (2.10)\n",
            "Requirement already satisfied: urllib3!=1.25.0,!=1.25.1,<1.26,>=1.21.1 in /usr/local/lib/python3.6/dist-packages (from requests->pyTigerGraph) (1.24.3)\n",
            "Installing collected packages: validators, pyTigerGraph\n",
            "Successfully installed pyTigerGraph-0.0.9.6.2 validators-0.18.1\n"
          ],
          "name": "stdout"
        }
      ]
    },
    {
      "cell_type": "code",
      "metadata": {
        "id": "H1T-rDIAIUfE",
        "colab": {
          "base_uri": "https://localhost:8080/",
          "height": 1000
        },
        "outputId": "f196ba55-29ca-453a-d3ce-a7a9da8e3dcc"
      },
      "source": [
        "import plotly.express as px\n",
        "import pandas as pd\n",
        "\n",
        "# Let's start basic with the weight and height first\n",
        "\n",
        "# result = conn.runInstalledQuery(\"allPokemon\", {})[0][\"catchThemAll\"]\n",
        "\n",
        "result = conn.runInterpretedQuery('''\n",
        "INTERPRET QUERY () FOR GRAPH PokemonGraph { \n",
        "  catchThemAll = {Pokemon.*}; # Pokemon.* means that it'll grab all the Pokemon\n",
        "  PRINT catchThemAll; # print displays the results\n",
        "}\n",
        "''')[0][\"catchThemAll\"]\n",
        "\n",
        "# print(result[0][\"catchThemAll\"][0])\n",
        "\n",
        "height = []\n",
        "weight = []\n",
        "types = []\n",
        "\n",
        "\n",
        "for i in result:\n",
        "  print(i[\"attributes\"])\n",
        "  height.append(i[\"attributes\"][\"height\"])\n",
        "  weight.append(i[\"attributes\"][\"weight\"])\n",
        "\n",
        "d = {'height': height, 'weight': weight}\n",
        "df = pd.DataFrame(data=d)\n",
        "# print(result[0][\"catchThemAll\"])\n",
        "\n",
        "# df = px.data.tips()\n",
        "fig = px.scatter(df, x=\"height\", y=\"weight\", trendline=\"ols\")\n",
        "fig.show()"
      ],
      "execution_count": null,
      "outputs": [
        {
          "output_type": "stream",
          "text": [
            "{'name': 'bulbasaur', 'image': 'https://raw.githubusercontent.com/PokeAPI/sprites/master/sprites/pokemon/other/official-artwork/1.png', 'weight': 69, 'height': 7}\n",
            "{'name': 'nidoking', 'image': 'https://raw.githubusercontent.com/PokeAPI/sprites/master/sprites/pokemon/other/official-artwork/34.png', 'weight': 620, 'height': 14}\n",
            "{'name': 'poliwhirl', 'image': 'https://raw.githubusercontent.com/PokeAPI/sprites/master/sprites/pokemon/other/official-artwork/61.png', 'weight': 200, 'height': 10}\n",
            "{'name': 'magnemite', 'image': 'https://raw.githubusercontent.com/PokeAPI/sprites/master/sprites/pokemon/other/official-artwork/81.png', 'weight': 60, 'height': 3}\n",
            "{'name': 'vileplume', 'image': 'https://raw.githubusercontent.com/PokeAPI/sprites/master/sprites/pokemon/other/official-artwork/45.png', 'weight': 186, 'height': 12}\n",
            "{'name': 'machop', 'image': 'https://raw.githubusercontent.com/PokeAPI/sprites/master/sprites/pokemon/other/official-artwork/66.png', 'weight': 195, 'height': 8}\n",
            "{'name': 'machoke', 'image': 'https://raw.githubusercontent.com/PokeAPI/sprites/master/sprites/pokemon/other/official-artwork/67.png', 'weight': 705, 'height': 15}\n",
            "{'name': 'muk', 'image': 'https://raw.githubusercontent.com/PokeAPI/sprites/master/sprites/pokemon/other/official-artwork/89.png', 'weight': 300, 'height': 12}\n",
            "{'name': 'sandshrew', 'image': 'https://raw.githubusercontent.com/PokeAPI/sprites/master/sprites/pokemon/other/official-artwork/27.png', 'weight': 120, 'height': 6}\n",
            "{'name': 'nidorino', 'image': 'https://raw.githubusercontent.com/PokeAPI/sprites/master/sprites/pokemon/other/official-artwork/33.png', 'weight': 195, 'height': 9}\n",
            "{'name': 'caterpie', 'image': 'https://raw.githubusercontent.com/PokeAPI/sprites/master/sprites/pokemon/other/official-artwork/10.png', 'weight': 29, 'height': 3}\n",
            "{'name': 'nidorina', 'image': 'https://raw.githubusercontent.com/PokeAPI/sprites/master/sprites/pokemon/other/official-artwork/30.png', 'weight': 200, 'height': 8}\n",
            "{'name': 'zubat', 'image': 'https://raw.githubusercontent.com/PokeAPI/sprites/master/sprites/pokemon/other/official-artwork/41.png', 'weight': 75, 'height': 8}\n",
            "{'name': 'metapod', 'image': 'https://raw.githubusercontent.com/PokeAPI/sprites/master/sprites/pokemon/other/official-artwork/11.png', 'weight': 99, 'height': 7}\n",
            "{'name': 'beedrill', 'image': 'https://raw.githubusercontent.com/PokeAPI/sprites/master/sprites/pokemon/other/official-artwork/15.png', 'weight': 295, 'height': 10}\n",
            "{'name': 'drowzee', 'image': 'https://raw.githubusercontent.com/PokeAPI/sprites/master/sprites/pokemon/other/official-artwork/96.png', 'weight': 324, 'height': 10}\n",
            "{'name': 'charmander', 'image': 'https://raw.githubusercontent.com/PokeAPI/sprites/master/sprites/pokemon/other/official-artwork/4.png', 'weight': 85, 'height': 6}\n",
            "{'name': 'gloom', 'image': 'https://raw.githubusercontent.com/PokeAPI/sprites/master/sprites/pokemon/other/official-artwork/44.png', 'weight': 86, 'height': 8}\n",
            "{'name': 'parasect', 'image': 'https://raw.githubusercontent.com/PokeAPI/sprites/master/sprites/pokemon/other/official-artwork/47.png', 'weight': 295, 'height': 10}\n",
            "{'name': 'venonat', 'image': 'https://raw.githubusercontent.com/PokeAPI/sprites/master/sprites/pokemon/other/official-artwork/48.png', 'weight': 300, 'height': 10}\n",
            "{'name': 'machamp', 'image': 'https://raw.githubusercontent.com/PokeAPI/sprites/master/sprites/pokemon/other/official-artwork/68.png', 'weight': 1300, 'height': 16}\n",
            "{'name': 'geodude', 'image': 'https://raw.githubusercontent.com/PokeAPI/sprites/master/sprites/pokemon/other/official-artwork/74.png', 'weight': 200, 'height': 4}\n",
            "{'name': 'pidgeotto', 'image': 'https://raw.githubusercontent.com/PokeAPI/sprites/master/sprites/pokemon/other/official-artwork/17.png', 'weight': 300, 'height': 11}\n",
            "{'name': 'arbok', 'image': 'https://raw.githubusercontent.com/PokeAPI/sprites/master/sprites/pokemon/other/official-artwork/24.png', 'weight': 650, 'height': 35}\n",
            "{'name': 'nidoran-f', 'image': 'https://raw.githubusercontent.com/PokeAPI/sprites/master/sprites/pokemon/other/official-artwork/29.png', 'weight': 70, 'height': 4}\n",
            "{'name': 'seel', 'image': 'https://raw.githubusercontent.com/PokeAPI/sprites/master/sprites/pokemon/other/official-artwork/86.png', 'weight': 900, 'height': 11}\n",
            "{'name': 'cloyster', 'image': 'https://raw.githubusercontent.com/PokeAPI/sprites/master/sprites/pokemon/other/official-artwork/91.png', 'weight': 1325, 'height': 15}\n",
            "{'name': 'fearow', 'image': 'https://raw.githubusercontent.com/PokeAPI/sprites/master/sprites/pokemon/other/official-artwork/22.png', 'weight': 380, 'height': 12}\n",
            "{'name': 'shellder', 'image': 'https://raw.githubusercontent.com/PokeAPI/sprites/master/sprites/pokemon/other/official-artwork/90.png', 'weight': 40, 'height': 3}\n",
            "{'name': 'squirtle', 'image': 'https://raw.githubusercontent.com/PokeAPI/sprites/master/sprites/pokemon/other/official-artwork/7.png', 'weight': 90, 'height': 5}\n",
            "{'name': 'vulpix', 'image': 'https://raw.githubusercontent.com/PokeAPI/sprites/master/sprites/pokemon/other/official-artwork/37.png', 'weight': 99, 'height': 6}\n",
            "{'name': 'dewgong', 'image': 'https://raw.githubusercontent.com/PokeAPI/sprites/master/sprites/pokemon/other/official-artwork/87.png', 'weight': 1200, 'height': 17}\n",
            "{'name': 'dugtrio', 'image': 'https://raw.githubusercontent.com/PokeAPI/sprites/master/sprites/pokemon/other/official-artwork/51.png', 'weight': 333, 'height': 7}\n",
            "{'name': 'persian', 'image': 'https://raw.githubusercontent.com/PokeAPI/sprites/master/sprites/pokemon/other/official-artwork/53.png', 'weight': 320, 'height': 10}\n",
            "{'name': 'clefairy', 'image': 'https://raw.githubusercontent.com/PokeAPI/sprites/master/sprites/pokemon/other/official-artwork/35.png', 'weight': 75, 'height': 6}\n",
            "{'name': 'rapidash', 'image': 'https://raw.githubusercontent.com/PokeAPI/sprites/master/sprites/pokemon/other/official-artwork/78.png', 'weight': 950, 'height': 17}\n",
            "{'name': 'meowth', 'image': 'https://raw.githubusercontent.com/PokeAPI/sprites/master/sprites/pokemon/other/official-artwork/52.png', 'weight': 42, 'height': 4}\n",
            "{'name': 'tentacruel', 'image': 'https://raw.githubusercontent.com/PokeAPI/sprites/master/sprites/pokemon/other/official-artwork/73.png', 'weight': 550, 'height': 16}\n",
            "{'name': 'hypno', 'image': 'https://raw.githubusercontent.com/PokeAPI/sprites/master/sprites/pokemon/other/official-artwork/97.png', 'weight': 756, 'height': 16}\n",
            "{'name': 'charmeleon', 'image': 'https://raw.githubusercontent.com/PokeAPI/sprites/master/sprites/pokemon/other/official-artwork/5.png', 'weight': 190, 'height': 11}\n",
            "{'name': 'ekans', 'image': 'https://raw.githubusercontent.com/PokeAPI/sprites/master/sprites/pokemon/other/official-artwork/23.png', 'weight': 69, 'height': 20}\n",
            "{'name': 'magneton', 'image': 'https://raw.githubusercontent.com/PokeAPI/sprites/master/sprites/pokemon/other/official-artwork/82.png', 'weight': 600, 'height': 10}\n",
            "{'name': 'charizard', 'image': 'https://raw.githubusercontent.com/PokeAPI/sprites/master/sprites/pokemon/other/official-artwork/6.png', 'weight': 905, 'height': 17}\n",
            "{'name': 'wartortle', 'image': 'https://raw.githubusercontent.com/PokeAPI/sprites/master/sprites/pokemon/other/official-artwork/8.png', 'weight': 225, 'height': 10}\n",
            "{'name': 'spearow', 'image': 'https://raw.githubusercontent.com/PokeAPI/sprites/master/sprites/pokemon/other/official-artwork/21.png', 'weight': 20, 'height': 3}\n",
            "{'name': 'clefable', 'image': 'https://raw.githubusercontent.com/PokeAPI/sprites/master/sprites/pokemon/other/official-artwork/36.png', 'weight': 400, 'height': 13}\n",
            "{'name': 'primeape', 'image': 'https://raw.githubusercontent.com/PokeAPI/sprites/master/sprites/pokemon/other/official-artwork/57.png', 'weight': 320, 'height': 10}\n",
            "{'name': 'weepinbell', 'image': 'https://raw.githubusercontent.com/PokeAPI/sprites/master/sprites/pokemon/other/official-artwork/70.png', 'weight': 64, 'height': 10}\n",
            "{'name': 'slowbro', 'image': 'https://raw.githubusercontent.com/PokeAPI/sprites/master/sprites/pokemon/other/official-artwork/80.png', 'weight': 785, 'height': 16}\n",
            "{'name': 'onix', 'image': 'https://raw.githubusercontent.com/PokeAPI/sprites/master/sprites/pokemon/other/official-artwork/95.png', 'weight': 2100, 'height': 88}\n",
            "{'name': 'ivysaur', 'image': 'https://raw.githubusercontent.com/PokeAPI/sprites/master/sprites/pokemon/other/official-artwork/2.png', 'weight': 130, 'height': 10}\n",
            "{'name': 'paras', 'image': 'https://raw.githubusercontent.com/PokeAPI/sprites/master/sprites/pokemon/other/official-artwork/46.png', 'weight': 54, 'height': 3}\n",
            "{'name': 'golem', 'image': 'https://raw.githubusercontent.com/PokeAPI/sprites/master/sprites/pokemon/other/official-artwork/76.png', 'weight': 3000, 'height': 14}\n",
            "{'name': 'doduo', 'image': 'https://raw.githubusercontent.com/PokeAPI/sprites/master/sprites/pokemon/other/official-artwork/84.png', 'weight': 392, 'height': 14}\n",
            "{'name': 'venusaur', 'image': 'https://raw.githubusercontent.com/PokeAPI/sprites/master/sprites/pokemon/other/official-artwork/3.png', 'weight': 1000, 'height': 20}\n",
            "{'name': 'blastoise', 'image': 'https://raw.githubusercontent.com/PokeAPI/sprites/master/sprites/pokemon/other/official-artwork/9.png', 'weight': 855, 'height': 16}\n",
            "{'name': 'pidgeot', 'image': 'https://raw.githubusercontent.com/PokeAPI/sprites/master/sprites/pokemon/other/official-artwork/18.png', 'weight': 395, 'height': 15}\n",
            "{'name': 'farfetchd', 'image': 'https://raw.githubusercontent.com/PokeAPI/sprites/master/sprites/pokemon/other/official-artwork/83.png', 'weight': 150, 'height': 8}\n",
            "{'name': 'gengar', 'image': 'https://raw.githubusercontent.com/PokeAPI/sprites/master/sprites/pokemon/other/official-artwork/94.png', 'weight': 405, 'height': 15}\n",
            "{'name': 'kingler', 'image': 'https://raw.githubusercontent.com/PokeAPI/sprites/master/sprites/pokemon/other/official-artwork/99.png', 'weight': 600, 'height': 13}\n",
            "{'name': 'venomoth', 'image': 'https://raw.githubusercontent.com/PokeAPI/sprites/master/sprites/pokemon/other/official-artwork/49.png', 'weight': 125, 'height': 15}\n",
            "{'name': 'mankey', 'image': 'https://raw.githubusercontent.com/PokeAPI/sprites/master/sprites/pokemon/other/official-artwork/56.png', 'weight': 280, 'height': 5}\n",
            "{'name': 'raichu', 'image': 'https://raw.githubusercontent.com/PokeAPI/sprites/master/sprites/pokemon/other/official-artwork/26.png', 'weight': 300, 'height': 8}\n",
            "{'name': 'poliwrath', 'image': 'https://raw.githubusercontent.com/PokeAPI/sprites/master/sprites/pokemon/other/official-artwork/62.png', 'weight': 540, 'height': 13}\n",
            "{'name': 'ponyta', 'image': 'https://raw.githubusercontent.com/PokeAPI/sprites/master/sprites/pokemon/other/official-artwork/77.png', 'weight': 300, 'height': 10}\n",
            "{'name': 'jigglypuff', 'image': 'https://raw.githubusercontent.com/PokeAPI/sprites/master/sprites/pokemon/other/official-artwork/39.png', 'weight': 55, 'height': 5}\n",
            "{'name': 'tentacool', 'image': 'https://raw.githubusercontent.com/PokeAPI/sprites/master/sprites/pokemon/other/official-artwork/72.png', 'weight': 455, 'height': 9}\n",
            "{'name': 'nidoran-m', 'image': 'https://raw.githubusercontent.com/PokeAPI/sprites/master/sprites/pokemon/other/official-artwork/32.png', 'weight': 90, 'height': 5}\n",
            "{'name': 'golbat', 'image': 'https://raw.githubusercontent.com/PokeAPI/sprites/master/sprites/pokemon/other/official-artwork/42.png', 'weight': 550, 'height': 16}\n",
            "{'name': 'alakazam', 'image': 'https://raw.githubusercontent.com/PokeAPI/sprites/master/sprites/pokemon/other/official-artwork/65.png', 'weight': 480, 'height': 15}\n",
            "{'name': 'bellsprout', 'image': 'https://raw.githubusercontent.com/PokeAPI/sprites/master/sprites/pokemon/other/official-artwork/69.png', 'weight': 40, 'height': 7}\n",
            "{'name': 'kakuna', 'image': 'https://raw.githubusercontent.com/PokeAPI/sprites/master/sprites/pokemon/other/official-artwork/14.png', 'weight': 100, 'height': 6}\n",
            "{'name': 'ninetales', 'image': 'https://raw.githubusercontent.com/PokeAPI/sprites/master/sprites/pokemon/other/official-artwork/38.png', 'weight': 199, 'height': 11}\n",
            "{'name': 'butterfree', 'image': 'https://raw.githubusercontent.com/PokeAPI/sprites/master/sprites/pokemon/other/official-artwork/12.png', 'weight': 320, 'height': 11}\n",
            "{'name': 'weedle', 'image': 'https://raw.githubusercontent.com/PokeAPI/sprites/master/sprites/pokemon/other/official-artwork/13.png', 'weight': 32, 'height': 3}\n",
            "{'name': 'raticate', 'image': 'https://raw.githubusercontent.com/PokeAPI/sprites/master/sprites/pokemon/other/official-artwork/20.png', 'weight': 185, 'height': 7}\n",
            "{'name': 'sandslash', 'image': 'https://raw.githubusercontent.com/PokeAPI/sprites/master/sprites/pokemon/other/official-artwork/28.png', 'weight': 295, 'height': 10}\n",
            "{'name': 'golduck', 'image': 'https://raw.githubusercontent.com/PokeAPI/sprites/master/sprites/pokemon/other/official-artwork/55.png', 'weight': 766, 'height': 17}\n",
            "{'name': 'victreebel', 'image': 'https://raw.githubusercontent.com/PokeAPI/sprites/master/sprites/pokemon/other/official-artwork/71.png', 'weight': 155, 'height': 17}\n",
            "{'name': 'slowpoke', 'image': 'https://raw.githubusercontent.com/PokeAPI/sprites/master/sprites/pokemon/other/official-artwork/79.png', 'weight': 360, 'height': 12}\n",
            "{'name': 'grimer', 'image': 'https://raw.githubusercontent.com/PokeAPI/sprites/master/sprites/pokemon/other/official-artwork/88.png', 'weight': 300, 'height': 9}\n",
            "{'name': 'pidgey', 'image': 'https://raw.githubusercontent.com/PokeAPI/sprites/master/sprites/pokemon/other/official-artwork/16.png', 'weight': 18, 'height': 3}\n",
            "{'name': 'diglett', 'image': 'https://raw.githubusercontent.com/PokeAPI/sprites/master/sprites/pokemon/other/official-artwork/50.png', 'weight': 8, 'height': 2}\n",
            "{'name': 'arcanine', 'image': 'https://raw.githubusercontent.com/PokeAPI/sprites/master/sprites/pokemon/other/official-artwork/59.png', 'weight': 1550, 'height': 19}\n",
            "{'name': 'gastly', 'image': 'https://raw.githubusercontent.com/PokeAPI/sprites/master/sprites/pokemon/other/official-artwork/92.png', 'weight': 1, 'height': 13}\n",
            "{'name': 'pikachu', 'image': 'https://raw.githubusercontent.com/PokeAPI/sprites/master/sprites/pokemon/other/official-artwork/25.png', 'weight': 60, 'height': 4}\n",
            "{'name': 'wigglytuff', 'image': 'https://raw.githubusercontent.com/PokeAPI/sprites/master/sprites/pokemon/other/official-artwork/40.png', 'weight': 120, 'height': 10}\n",
            "{'name': 'kadabra', 'image': 'https://raw.githubusercontent.com/PokeAPI/sprites/master/sprites/pokemon/other/official-artwork/64.png', 'weight': 565, 'height': 13}\n",
            "{'name': 'haunter', 'image': 'https://raw.githubusercontent.com/PokeAPI/sprites/master/sprites/pokemon/other/official-artwork/93.png', 'weight': 1, 'height': 16}\n",
            "{'name': 'krabby', 'image': 'https://raw.githubusercontent.com/PokeAPI/sprites/master/sprites/pokemon/other/official-artwork/98.png', 'weight': 65, 'height': 4}\n",
            "{'name': 'rattata', 'image': 'https://raw.githubusercontent.com/PokeAPI/sprites/master/sprites/pokemon/other/official-artwork/19.png', 'weight': 35, 'height': 3}\n",
            "{'name': 'nidoqueen', 'image': 'https://raw.githubusercontent.com/PokeAPI/sprites/master/sprites/pokemon/other/official-artwork/31.png', 'weight': 600, 'height': 13}\n",
            "{'name': 'dodrio', 'image': 'https://raw.githubusercontent.com/PokeAPI/sprites/master/sprites/pokemon/other/official-artwork/85.png', 'weight': 852, 'height': 18}\n",
            "{'name': 'poliwag', 'image': 'https://raw.githubusercontent.com/PokeAPI/sprites/master/sprites/pokemon/other/official-artwork/60.png', 'weight': 124, 'height': 6}\n",
            "{'name': 'graveler', 'image': 'https://raw.githubusercontent.com/PokeAPI/sprites/master/sprites/pokemon/other/official-artwork/75.png', 'weight': 1050, 'height': 10}\n",
            "{'name': 'oddish', 'image': 'https://raw.githubusercontent.com/PokeAPI/sprites/master/sprites/pokemon/other/official-artwork/43.png', 'weight': 54, 'height': 5}\n",
            "{'name': 'psyduck', 'image': 'https://raw.githubusercontent.com/PokeAPI/sprites/master/sprites/pokemon/other/official-artwork/54.png', 'weight': 196, 'height': 8}\n",
            "{'name': 'growlithe', 'image': 'https://raw.githubusercontent.com/PokeAPI/sprites/master/sprites/pokemon/other/official-artwork/58.png', 'weight': 190, 'height': 7}\n",
            "{'name': 'abra', 'image': 'https://raw.githubusercontent.com/PokeAPI/sprites/master/sprites/pokemon/other/official-artwork/63.png', 'weight': 195, 'height': 9}\n"
          ],
          "name": "stdout"
        },
        {
          "output_type": "display_data",
          "data": {
            "text/html": [
              "<html>\n",
              "<head><meta charset=\"utf-8\" /></head>\n",
              "<body>\n",
              "    <div>\n",
              "            <script src=\"https://cdnjs.cloudflare.com/ajax/libs/mathjax/2.7.5/MathJax.js?config=TeX-AMS-MML_SVG\"></script><script type=\"text/javascript\">if (window.MathJax) {MathJax.Hub.Config({SVG: {font: \"STIX-Web\"}});}</script>\n",
              "                <script type=\"text/javascript\">window.PlotlyConfig = {MathJaxConfig: 'local'};</script>\n",
              "        <script src=\"https://cdn.plot.ly/plotly-latest.min.js\"></script>    \n",
              "            <div id=\"f999dae7-0b17-434e-8e59-91cc551ce6e9\" class=\"plotly-graph-div\" style=\"height:525px; width:100%;\"></div>\n",
              "            <script type=\"text/javascript\">\n",
              "                \n",
              "                    window.PLOTLYENV=window.PLOTLYENV || {};\n",
              "                    \n",
              "                if (document.getElementById(\"f999dae7-0b17-434e-8e59-91cc551ce6e9\")) {\n",
              "                    Plotly.newPlot(\n",
              "                        'f999dae7-0b17-434e-8e59-91cc551ce6e9',\n",
              "                        [{\"hoverlabel\": {\"namelength\": 0}, \"hovertemplate\": \"height=%{x}<br>weight=%{y}\", \"legendgroup\": \"\", \"marker\": {\"color\": \"#636efa\", \"symbol\": \"circle\"}, \"mode\": \"markers\", \"name\": \"\", \"showlegend\": false, \"type\": \"scatter\", \"x\": [7, 14, 10, 3, 12, 8, 15, 12, 6, 9, 3, 8, 8, 7, 10, 10, 6, 8, 10, 10, 16, 4, 11, 35, 4, 11, 15, 12, 3, 5, 6, 17, 7, 10, 6, 17, 4, 16, 16, 11, 20, 10, 17, 10, 3, 13, 10, 10, 16, 88, 10, 3, 14, 14, 20, 16, 15, 8, 15, 13, 15, 5, 8, 13, 10, 5, 9, 5, 16, 15, 7, 6, 11, 11, 3, 7, 10, 17, 17, 12, 9, 3, 2, 19, 13, 4, 10, 13, 16, 4, 3, 13, 18, 6, 10, 5, 8, 7, 9], \"xaxis\": \"x\", \"y\": [69, 620, 200, 60, 186, 195, 705, 300, 120, 195, 29, 200, 75, 99, 295, 324, 85, 86, 295, 300, 1300, 200, 300, 650, 70, 900, 1325, 380, 40, 90, 99, 1200, 333, 320, 75, 950, 42, 550, 756, 190, 69, 600, 905, 225, 20, 400, 320, 64, 785, 2100, 130, 54, 3000, 392, 1000, 855, 395, 150, 405, 600, 125, 280, 300, 540, 300, 55, 455, 90, 550, 480, 40, 100, 199, 320, 32, 185, 295, 766, 155, 360, 300, 18, 8, 1550, 1, 60, 120, 565, 1, 65, 35, 600, 852, 124, 1050, 54, 196, 190, 195], \"yaxis\": \"y\"}, {\"hoverlabel\": {\"namelength\": 0}, \"hovertemplate\": \"<b>OLS trendline</b><br>weight = 29.463198 * height + 59.080997<br>R<sup>2</sup>=0.359837<br><br>height=%{x}<br>weight=%{y} <b>(trend)</b>\", \"legendgroup\": \"\", \"marker\": {\"color\": \"#636efa\", \"symbol\": \"circle\"}, \"mode\": \"lines\", \"name\": \"\", \"showlegend\": false, \"type\": \"scatter\", \"x\": [2, 3, 3, 3, 3, 3, 3, 3, 3, 4, 4, 4, 4, 4, 5, 5, 5, 5, 5, 6, 6, 6, 6, 6, 6, 7, 7, 7, 7, 7, 7, 8, 8, 8, 8, 8, 8, 8, 9, 9, 9, 9, 10, 10, 10, 10, 10, 10, 10, 10, 10, 10, 10, 10, 10, 10, 10, 11, 11, 11, 11, 11, 12, 12, 12, 12, 13, 13, 13, 13, 13, 13, 14, 14, 14, 15, 15, 15, 15, 15, 15, 16, 16, 16, 16, 16, 16, 16, 17, 17, 17, 17, 17, 18, 19, 20, 20, 35, 88], \"xaxis\": \"x\", \"y\": [118.00739353819256, 147.47059181030656, 147.47059181030656, 147.47059181030656, 147.47059181030656, 147.47059181030656, 147.47059181030656, 147.47059181030656, 147.47059181030656, 176.93379008242056, 176.93379008242056, 176.93379008242056, 176.93379008242056, 176.93379008242056, 206.39698835453456, 206.39698835453456, 206.39698835453456, 206.39698835453456, 206.39698835453456, 235.86018662664856, 235.86018662664856, 235.86018662664856, 235.86018662664856, 235.86018662664856, 235.86018662664856, 265.3233848987626, 265.3233848987626, 265.3233848987626, 265.3233848987626, 265.3233848987626, 265.3233848987626, 294.78658317087655, 294.78658317087655, 294.78658317087655, 294.78658317087655, 294.78658317087655, 294.78658317087655, 294.78658317087655, 324.2497814429906, 324.2497814429906, 324.2497814429906, 324.2497814429906, 353.71297971510455, 353.71297971510455, 353.71297971510455, 353.71297971510455, 353.71297971510455, 353.71297971510455, 353.71297971510455, 353.71297971510455, 353.71297971510455, 353.71297971510455, 353.71297971510455, 353.71297971510455, 353.71297971510455, 353.71297971510455, 353.71297971510455, 383.1761779872185, 383.1761779872185, 383.1761779872185, 383.1761779872185, 383.1761779872185, 412.63937625933255, 412.63937625933255, 412.63937625933255, 412.63937625933255, 442.1025745314466, 442.1025745314466, 442.1025745314466, 442.1025745314466, 442.1025745314466, 442.1025745314466, 471.56577280356055, 471.56577280356055, 471.56577280356055, 501.0289710756745, 501.0289710756745, 501.0289710756745, 501.0289710756745, 501.0289710756745, 501.0289710756745, 530.4921693477886, 530.4921693477886, 530.4921693477886, 530.4921693477886, 530.4921693477886, 530.4921693477886, 530.4921693477886, 559.9553676199025, 559.9553676199025, 559.9553676199025, 559.9553676199025, 559.9553676199025, 589.4185658920167, 618.8817641641306, 648.3449624362445, 648.3449624362445, 1090.2929365179546, 2651.8424449399963], \"yaxis\": \"y\"}],\n",
              "                        {\"legend\": {\"tracegroupgap\": 0}, \"margin\": {\"t\": 60}, \"template\": {\"data\": {\"bar\": [{\"error_x\": {\"color\": \"#2a3f5f\"}, \"error_y\": {\"color\": \"#2a3f5f\"}, \"marker\": {\"line\": {\"color\": \"#E5ECF6\", \"width\": 0.5}}, \"type\": \"bar\"}], \"barpolar\": [{\"marker\": {\"line\": {\"color\": \"#E5ECF6\", \"width\": 0.5}}, \"type\": \"barpolar\"}], \"carpet\": [{\"aaxis\": {\"endlinecolor\": \"#2a3f5f\", \"gridcolor\": \"white\", \"linecolor\": \"white\", \"minorgridcolor\": \"white\", \"startlinecolor\": \"#2a3f5f\"}, \"baxis\": {\"endlinecolor\": \"#2a3f5f\", \"gridcolor\": \"white\", \"linecolor\": \"white\", \"minorgridcolor\": \"white\", \"startlinecolor\": \"#2a3f5f\"}, \"type\": \"carpet\"}], \"choropleth\": [{\"colorbar\": {\"outlinewidth\": 0, \"ticks\": \"\"}, \"type\": \"choropleth\"}], \"contour\": [{\"colorbar\": {\"outlinewidth\": 0, \"ticks\": \"\"}, \"colorscale\": [[0.0, \"#0d0887\"], [0.1111111111111111, \"#46039f\"], [0.2222222222222222, \"#7201a8\"], [0.3333333333333333, \"#9c179e\"], [0.4444444444444444, \"#bd3786\"], [0.5555555555555556, \"#d8576b\"], [0.6666666666666666, \"#ed7953\"], [0.7777777777777778, \"#fb9f3a\"], [0.8888888888888888, \"#fdca26\"], [1.0, \"#f0f921\"]], \"type\": \"contour\"}], \"contourcarpet\": [{\"colorbar\": {\"outlinewidth\": 0, \"ticks\": \"\"}, \"type\": \"contourcarpet\"}], \"heatmap\": [{\"colorbar\": {\"outlinewidth\": 0, \"ticks\": \"\"}, \"colorscale\": [[0.0, \"#0d0887\"], [0.1111111111111111, \"#46039f\"], [0.2222222222222222, \"#7201a8\"], [0.3333333333333333, \"#9c179e\"], [0.4444444444444444, \"#bd3786\"], [0.5555555555555556, \"#d8576b\"], [0.6666666666666666, \"#ed7953\"], [0.7777777777777778, \"#fb9f3a\"], [0.8888888888888888, \"#fdca26\"], [1.0, \"#f0f921\"]], \"type\": \"heatmap\"}], \"heatmapgl\": [{\"colorbar\": {\"outlinewidth\": 0, \"ticks\": \"\"}, \"colorscale\": [[0.0, \"#0d0887\"], [0.1111111111111111, \"#46039f\"], [0.2222222222222222, \"#7201a8\"], [0.3333333333333333, \"#9c179e\"], [0.4444444444444444, \"#bd3786\"], [0.5555555555555556, \"#d8576b\"], [0.6666666666666666, \"#ed7953\"], [0.7777777777777778, \"#fb9f3a\"], [0.8888888888888888, \"#fdca26\"], [1.0, \"#f0f921\"]], \"type\": \"heatmapgl\"}], \"histogram\": [{\"marker\": {\"colorbar\": {\"outlinewidth\": 0, \"ticks\": \"\"}}, \"type\": \"histogram\"}], \"histogram2d\": [{\"colorbar\": {\"outlinewidth\": 0, \"ticks\": \"\"}, \"colorscale\": [[0.0, \"#0d0887\"], [0.1111111111111111, \"#46039f\"], [0.2222222222222222, \"#7201a8\"], [0.3333333333333333, \"#9c179e\"], [0.4444444444444444, \"#bd3786\"], [0.5555555555555556, \"#d8576b\"], [0.6666666666666666, \"#ed7953\"], [0.7777777777777778, \"#fb9f3a\"], [0.8888888888888888, \"#fdca26\"], [1.0, \"#f0f921\"]], \"type\": \"histogram2d\"}], \"histogram2dcontour\": [{\"colorbar\": {\"outlinewidth\": 0, \"ticks\": \"\"}, \"colorscale\": [[0.0, \"#0d0887\"], [0.1111111111111111, \"#46039f\"], [0.2222222222222222, \"#7201a8\"], [0.3333333333333333, \"#9c179e\"], [0.4444444444444444, \"#bd3786\"], [0.5555555555555556, \"#d8576b\"], [0.6666666666666666, \"#ed7953\"], [0.7777777777777778, \"#fb9f3a\"], [0.8888888888888888, \"#fdca26\"], [1.0, \"#f0f921\"]], \"type\": \"histogram2dcontour\"}], \"mesh3d\": [{\"colorbar\": {\"outlinewidth\": 0, \"ticks\": \"\"}, \"type\": \"mesh3d\"}], \"parcoords\": [{\"line\": {\"colorbar\": {\"outlinewidth\": 0, \"ticks\": \"\"}}, \"type\": \"parcoords\"}], \"pie\": [{\"automargin\": true, \"type\": \"pie\"}], \"scatter\": [{\"marker\": {\"colorbar\": {\"outlinewidth\": 0, \"ticks\": \"\"}}, \"type\": \"scatter\"}], \"scatter3d\": [{\"line\": {\"colorbar\": {\"outlinewidth\": 0, \"ticks\": \"\"}}, \"marker\": {\"colorbar\": {\"outlinewidth\": 0, \"ticks\": \"\"}}, \"type\": \"scatter3d\"}], \"scattercarpet\": [{\"marker\": {\"colorbar\": {\"outlinewidth\": 0, \"ticks\": \"\"}}, \"type\": \"scattercarpet\"}], \"scattergeo\": [{\"marker\": {\"colorbar\": {\"outlinewidth\": 0, \"ticks\": \"\"}}, \"type\": \"scattergeo\"}], \"scattergl\": [{\"marker\": {\"colorbar\": {\"outlinewidth\": 0, \"ticks\": \"\"}}, \"type\": \"scattergl\"}], \"scattermapbox\": [{\"marker\": {\"colorbar\": {\"outlinewidth\": 0, \"ticks\": \"\"}}, \"type\": \"scattermapbox\"}], \"scatterpolar\": [{\"marker\": {\"colorbar\": {\"outlinewidth\": 0, \"ticks\": \"\"}}, \"type\": \"scatterpolar\"}], \"scatterpolargl\": [{\"marker\": {\"colorbar\": {\"outlinewidth\": 0, \"ticks\": \"\"}}, \"type\": \"scatterpolargl\"}], \"scatterternary\": [{\"marker\": {\"colorbar\": {\"outlinewidth\": 0, \"ticks\": \"\"}}, \"type\": \"scatterternary\"}], \"surface\": [{\"colorbar\": {\"outlinewidth\": 0, \"ticks\": \"\"}, \"colorscale\": [[0.0, \"#0d0887\"], [0.1111111111111111, \"#46039f\"], [0.2222222222222222, \"#7201a8\"], [0.3333333333333333, \"#9c179e\"], [0.4444444444444444, \"#bd3786\"], [0.5555555555555556, \"#d8576b\"], [0.6666666666666666, \"#ed7953\"], [0.7777777777777778, \"#fb9f3a\"], [0.8888888888888888, \"#fdca26\"], [1.0, \"#f0f921\"]], \"type\": \"surface\"}], \"table\": [{\"cells\": {\"fill\": {\"color\": \"#EBF0F8\"}, \"line\": {\"color\": \"white\"}}, \"header\": {\"fill\": {\"color\": \"#C8D4E3\"}, \"line\": {\"color\": \"white\"}}, \"type\": \"table\"}]}, \"layout\": {\"annotationdefaults\": {\"arrowcolor\": \"#2a3f5f\", \"arrowhead\": 0, \"arrowwidth\": 1}, \"coloraxis\": {\"colorbar\": {\"outlinewidth\": 0, \"ticks\": \"\"}}, \"colorscale\": {\"diverging\": [[0, \"#8e0152\"], [0.1, \"#c51b7d\"], [0.2, \"#de77ae\"], [0.3, \"#f1b6da\"], [0.4, \"#fde0ef\"], [0.5, \"#f7f7f7\"], [0.6, \"#e6f5d0\"], [0.7, \"#b8e186\"], [0.8, \"#7fbc41\"], [0.9, \"#4d9221\"], [1, \"#276419\"]], \"sequential\": [[0.0, \"#0d0887\"], [0.1111111111111111, \"#46039f\"], [0.2222222222222222, \"#7201a8\"], [0.3333333333333333, \"#9c179e\"], [0.4444444444444444, \"#bd3786\"], [0.5555555555555556, \"#d8576b\"], [0.6666666666666666, \"#ed7953\"], [0.7777777777777778, \"#fb9f3a\"], [0.8888888888888888, \"#fdca26\"], [1.0, \"#f0f921\"]], \"sequentialminus\": [[0.0, \"#0d0887\"], [0.1111111111111111, \"#46039f\"], [0.2222222222222222, \"#7201a8\"], [0.3333333333333333, \"#9c179e\"], [0.4444444444444444, \"#bd3786\"], [0.5555555555555556, \"#d8576b\"], [0.6666666666666666, \"#ed7953\"], [0.7777777777777778, \"#fb9f3a\"], [0.8888888888888888, \"#fdca26\"], [1.0, \"#f0f921\"]]}, \"colorway\": [\"#636efa\", \"#EF553B\", \"#00cc96\", \"#ab63fa\", \"#FFA15A\", \"#19d3f3\", \"#FF6692\", \"#B6E880\", \"#FF97FF\", \"#FECB52\"], \"font\": {\"color\": \"#2a3f5f\"}, \"geo\": {\"bgcolor\": \"white\", \"lakecolor\": \"white\", \"landcolor\": \"#E5ECF6\", \"showlakes\": true, \"showland\": true, \"subunitcolor\": \"white\"}, \"hoverlabel\": {\"align\": \"left\"}, \"hovermode\": \"closest\", \"mapbox\": {\"style\": \"light\"}, \"paper_bgcolor\": \"white\", \"plot_bgcolor\": \"#E5ECF6\", \"polar\": {\"angularaxis\": {\"gridcolor\": \"white\", \"linecolor\": \"white\", \"ticks\": \"\"}, \"bgcolor\": \"#E5ECF6\", \"radialaxis\": {\"gridcolor\": \"white\", \"linecolor\": \"white\", \"ticks\": \"\"}}, \"scene\": {\"xaxis\": {\"backgroundcolor\": \"#E5ECF6\", \"gridcolor\": \"white\", \"gridwidth\": 2, \"linecolor\": \"white\", \"showbackground\": true, \"ticks\": \"\", \"zerolinecolor\": \"white\"}, \"yaxis\": {\"backgroundcolor\": \"#E5ECF6\", \"gridcolor\": \"white\", \"gridwidth\": 2, \"linecolor\": \"white\", \"showbackground\": true, \"ticks\": \"\", \"zerolinecolor\": \"white\"}, \"zaxis\": {\"backgroundcolor\": \"#E5ECF6\", \"gridcolor\": \"white\", \"gridwidth\": 2, \"linecolor\": \"white\", \"showbackground\": true, \"ticks\": \"\", \"zerolinecolor\": \"white\"}}, \"shapedefaults\": {\"line\": {\"color\": \"#2a3f5f\"}}, \"ternary\": {\"aaxis\": {\"gridcolor\": \"white\", \"linecolor\": \"white\", \"ticks\": \"\"}, \"baxis\": {\"gridcolor\": \"white\", \"linecolor\": \"white\", \"ticks\": \"\"}, \"bgcolor\": \"#E5ECF6\", \"caxis\": {\"gridcolor\": \"white\", \"linecolor\": \"white\", \"ticks\": \"\"}}, \"title\": {\"x\": 0.05}, \"xaxis\": {\"automargin\": true, \"gridcolor\": \"white\", \"linecolor\": \"white\", \"ticks\": \"\", \"title\": {\"standoff\": 15}, \"zerolinecolor\": \"white\", \"zerolinewidth\": 2}, \"yaxis\": {\"automargin\": true, \"gridcolor\": \"white\", \"linecolor\": \"white\", \"ticks\": \"\", \"title\": {\"standoff\": 15}, \"zerolinecolor\": \"white\", \"zerolinewidth\": 2}}}, \"xaxis\": {\"anchor\": \"y\", \"domain\": [0.0, 1.0], \"title\": {\"text\": \"height\"}}, \"yaxis\": {\"anchor\": \"x\", \"domain\": [0.0, 1.0], \"title\": {\"text\": \"weight\"}}},\n",
              "                        {\"responsive\": true}\n",
              "                    ).then(function(){\n",
              "                            \n",
              "var gd = document.getElementById('f999dae7-0b17-434e-8e59-91cc551ce6e9');\n",
              "var x = new MutationObserver(function (mutations, observer) {{\n",
              "        var display = window.getComputedStyle(gd).display;\n",
              "        if (!display || display === 'none') {{\n",
              "            console.log([gd, 'removed!']);\n",
              "            Plotly.purge(gd);\n",
              "            observer.disconnect();\n",
              "        }}\n",
              "}});\n",
              "\n",
              "// Listen for the removal of the full notebook cells\n",
              "var notebookContainer = gd.closest('#notebook-container');\n",
              "if (notebookContainer) {{\n",
              "    x.observe(notebookContainer, {childList: true});\n",
              "}}\n",
              "\n",
              "// Listen for the clearing of the current output cell\n",
              "var outputEl = gd.closest('.output');\n",
              "if (outputEl) {{\n",
              "    x.observe(outputEl, {childList: true});\n",
              "}}\n",
              "\n",
              "                        })\n",
              "                };\n",
              "                \n",
              "            </script>\n",
              "        </div>\n",
              "</body>\n",
              "</html>"
            ]
          },
          "metadata": {
            "tags": []
          }
        }
      ]
    },
    {
      "cell_type": "code",
      "metadata": {
        "id": "zc3mnHoCLQ8a"
      },
      "source": [
        "def lin_regression_template(vertex, attribute_1, attribute_2):\n",
        "  result = conn.runInterpretedQuery('''\n",
        "    INTERPRET QUERY (STRING poke) FOR GRAPH $graphname {\n",
        "      vertex = {poke.*};\n",
        "      PRINT catchThemAll; \n",
        "    }\n",
        "  ''', {\"poke\": \"Test\"})"
      ],
      "execution_count": null,
      "outputs": []
    },
    {
      "cell_type": "code",
      "metadata": {
        "id": "_-Zf_ZiMMBk3"
      },
      "source": [
        "# lin_regression_template(\"Pokemon\", \"t\", \"e2\")"
      ],
      "execution_count": null,
      "outputs": []
    }
  ]
}